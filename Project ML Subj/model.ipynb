{
 "cells": [
  {
   "cell_type": "code",
   "execution_count": 3,
   "id": "0063e507",
   "metadata": {},
   "outputs": [],
   "source": [
    "from cassandra.cluster import Cluster\n",
    "import pandas as pd\n"
   ]
  },
  {
   "cell_type": "code",
   "execution_count": 4,
   "id": "aa3e13d9",
   "metadata": {},
   "outputs": [],
   "source": [
    "cluster = Cluster(['127.0.0.1'])\n",
    "session = cluster.connect('info_stock')"
   ]
  },
  {
   "cell_type": "code",
   "execution_count": 5,
   "id": "472ca1e2",
   "metadata": {},
   "outputs": [],
   "source": [
    "import re\n",
    "\n",
    "# 🔍 List คำที่เกี่ยวข้องกับธุรกิจฮารอม\n",
    "haram_keywords = [\n",
    "    r'\\bbank(s)?\\b',\n",
    "    r'\\binsurance\\b',\n",
    "    r'\\bcasino(s)?\\b',\n",
    "    r'\\bgambling\\b',\n",
    "    r'\\bporn(ography)?\\b',\n",
    "    r'\\blottery\\b',\n",
    "    r'\\bbrewery\\b',\n",
    "    r'\\bliquor\\b',\n",
    "    r'\\bpork\\b',\n",
    "    r'\\bweapon(s)?\\b',\n",
    "    r'\\btobacco\\b',\n",
    "    r'\\bnight\\s?club\\b',\n",
    "    r'\\binterest\\b',\n",
    "    r'\\bloan(s)?\\b',\n",
    "    r'\\bmortgage\\b',\n",
    "    r'\\binvestment\\sbank\\b'\n",
    "]\n",
    "\n",
    "def is_halal_by_regex(text):\n",
    "    text = text.lower()\n",
    "\n",
    "    for pattern in haram_keywords:\n",
    "        if re.search(pattern, text):\n",
    "            return False  # ❌ Haram\n",
    "    return True  # ✅ Halal or Syubhah\n"
   ]
  },
  {
   "cell_type": "code",
   "execution_count": 23,
   "id": "d8776404",
   "metadata": {},
   "outputs": [
    {
     "data": {
      "text/html": [
       "<div>\n",
       "<style scoped>\n",
       "    .dataframe tbody tr th:only-of-type {\n",
       "        vertical-align: middle;\n",
       "    }\n",
       "\n",
       "    .dataframe tbody tr th {\n",
       "        vertical-align: top;\n",
       "    }\n",
       "\n",
       "    .dataframe thead th {\n",
       "        text-align: right;\n",
       "    }\n",
       "</style>\n",
       "<table border=\"1\" class=\"dataframe\">\n",
       "  <thead>\n",
       "    <tr style=\"text-align: right;\">\n",
       "      <th></th>\n",
       "      <th>ticker</th>\n",
       "      <th>industry</th>\n",
       "      <th>interest_income</th>\n",
       "      <th>long_business_summary</th>\n",
       "      <th>name</th>\n",
       "      <th>sector</th>\n",
       "      <th>total_assets</th>\n",
       "      <th>total_debt</th>\n",
       "      <th>total_revenue</th>\n",
       "    </tr>\n",
       "  </thead>\n",
       "  <tbody>\n",
       "    <tr>\n",
       "      <th>0</th>\n",
       "      <td>SIAM.BK</td>\n",
       "      <td>Furnishings, Fixtures &amp; Appliances</td>\n",
       "      <td>-0.02879</td>\n",
       "      <td>Siam Steel International Public Company Limite...</td>\n",
       "      <td>SIAM_SIAM STEEL INTERNATIONAL</td>\n",
       "      <td>Consumer Cyclical</td>\n",
       "      <td>1.0</td>\n",
       "      <td>2.040780e+08</td>\n",
       "      <td>1.773048e+09</td>\n",
       "    </tr>\n",
       "    <tr>\n",
       "      <th>1</th>\n",
       "      <td>KAMART.BK</td>\n",
       "      <td>Household &amp; Personal Products</td>\n",
       "      <td>0.27538</td>\n",
       "      <td>Karmarts Public Company Limited, together with...</td>\n",
       "      <td>KAMART_KARMARTS</td>\n",
       "      <td>Consumer Defensive</td>\n",
       "      <td>1.0</td>\n",
       "      <td>6.533160e+08</td>\n",
       "      <td>3.322751e+09</td>\n",
       "    </tr>\n",
       "    <tr>\n",
       "      <th>2</th>\n",
       "      <td>IFS.BK</td>\n",
       "      <td>Credit Services</td>\n",
       "      <td>0.40719</td>\n",
       "      <td>IFS Capital (Thailand) Public Company Limited ...</td>\n",
       "      <td>IFS_IFS CAPITAL (THAILAND)</td>\n",
       "      <td>Financial Services</td>\n",
       "      <td>1.0</td>\n",
       "      <td>2.237478e+09</td>\n",
       "      <td>4.514385e+08</td>\n",
       "    </tr>\n",
       "    <tr>\n",
       "      <th>3</th>\n",
       "      <td>POPF.BK</td>\n",
       "      <td></td>\n",
       "      <td>0.00000</td>\n",
       "      <td>Prime Office Leasehold Property Fund specializ...</td>\n",
       "      <td>POPF_PRIME OFFICE LEASEHOLD</td>\n",
       "      <td></td>\n",
       "      <td>1.0</td>\n",
       "      <td>1.908280e+08</td>\n",
       "      <td>8.941708e+08</td>\n",
       "    </tr>\n",
       "    <tr>\n",
       "      <th>4</th>\n",
       "      <td>PYLON.BK</td>\n",
       "      <td>Engineering &amp; Construction</td>\n",
       "      <td>0.08830</td>\n",
       "      <td>Pylon Public Company Limited, together with it...</td>\n",
       "      <td>PYLON_PYLON</td>\n",
       "      <td>Industrials</td>\n",
       "      <td>1.0</td>\n",
       "      <td>6.043544e+07</td>\n",
       "      <td>9.071023e+08</td>\n",
       "    </tr>\n",
       "  </tbody>\n",
       "</table>\n",
       "</div>"
      ],
      "text/plain": [
       "      ticker                            industry  interest_income  \\\n",
       "0    SIAM.BK  Furnishings, Fixtures & Appliances         -0.02879   \n",
       "1  KAMART.BK       Household & Personal Products          0.27538   \n",
       "2     IFS.BK                     Credit Services          0.40719   \n",
       "3    POPF.BK                                              0.00000   \n",
       "4   PYLON.BK          Engineering & Construction          0.08830   \n",
       "\n",
       "                               long_business_summary  \\\n",
       "0  Siam Steel International Public Company Limite...   \n",
       "1  Karmarts Public Company Limited, together with...   \n",
       "2  IFS Capital (Thailand) Public Company Limited ...   \n",
       "3  Prime Office Leasehold Property Fund specializ...   \n",
       "4  Pylon Public Company Limited, together with it...   \n",
       "\n",
       "                            name              sector  total_assets  \\\n",
       "0  SIAM_SIAM STEEL INTERNATIONAL   Consumer Cyclical           1.0   \n",
       "1                KAMART_KARMARTS  Consumer Defensive           1.0   \n",
       "2     IFS_IFS CAPITAL (THAILAND)  Financial Services           1.0   \n",
       "3    POPF_PRIME OFFICE LEASEHOLD                               1.0   \n",
       "4                    PYLON_PYLON         Industrials           1.0   \n",
       "\n",
       "     total_debt  total_revenue  \n",
       "0  2.040780e+08   1.773048e+09  \n",
       "1  6.533160e+08   3.322751e+09  \n",
       "2  2.237478e+09   4.514385e+08  \n",
       "3  1.908280e+08   8.941708e+08  \n",
       "4  6.043544e+07   9.071023e+08  "
      ]
     },
     "execution_count": 23,
     "metadata": {},
     "output_type": "execute_result"
    }
   ],
   "source": [
    "rows = session.execute(\"\"\"\n",
    "    SELECT * FROM  financial_data ;\n",
    "\"\"\")\n",
    "df= pd.DataFrame(rows)\n",
    "df.head()"
   ]
  },
  {
   "cell_type": "code",
   "execution_count": 24,
   "id": "9113f047",
   "metadata": {},
   "outputs": [
    {
     "data": {
      "text/plain": [
       "(921, 9)"
      ]
     },
     "execution_count": 24,
     "metadata": {},
     "output_type": "execute_result"
    }
   ],
   "source": [
    "df.shape"
   ]
  },
  {
   "cell_type": "code",
   "execution_count": 17,
   "id": "68aa5dab",
   "metadata": {},
   "outputs": [
    {
     "data": {
      "text/plain": [
       "Index(['ticker', 'industry', 'interest_income', 'long_business_summary',\n",
       "       'name', 'sector', 'total_assets', 'total_debt', 'total_revenue'],\n",
       "      dtype='object')"
      ]
     },
     "execution_count": 17,
     "metadata": {},
     "output_type": "execute_result"
    }
   ],
   "source": [
    "df.columns"
   ]
  },
  {
   "cell_type": "code",
   "execution_count": 26,
   "id": "297bfb33",
   "metadata": {},
   "outputs": [
    {
     "name": "stdout",
     "output_type": "stream",
     "text": [
      "      Ticker                           Name              Sector  \\\n",
      "0    SIAM.BK  SIAM_SIAM STEEL INTERNATIONAL   Consumer Cyclical   \n",
      "1  KAMART.BK                KAMART_KARMARTS  Consumer Defensive   \n",
      "2     IFS.BK     IFS_IFS CAPITAL (THAILAND)  Financial Services   \n",
      "3    POPF.BK    POPF_PRIME OFFICE LEASEHOLD                       \n",
      "4   PYLON.BK                    PYLON_PYLON         Industrials   \n",
      "\n",
      "                             Industry Halal  \n",
      "0  Furnishings, Fixtures & Appliances     ✅  \n",
      "1       Household & Personal Products     ✅  \n",
      "2                     Credit Services     ✅  \n",
      "3                                         ✅  \n",
      "4          Engineering & Construction     ✅  \n"
     ]
    }
   ],
   "source": [
    "rows = session.execute(\"SELECT ticker, name, sector, industry, long_business_summary FROM financial_data\")\n",
    "\n",
    "results = []\n",
    "\n",
    "for row in rows:\n",
    "    combined_text = f\"{row.sector or ''} {row.industry or ''} {row.long_business_summary or ''}\"\n",
    "    halal = is_halal_by_regex(combined_text)\n",
    "\n",
    "    results.append({\n",
    "        'Ticker': row.ticker,\n",
    "        'Name': row.name,\n",
    "        'Sector': row.sector,\n",
    "        'Industry': row.industry,\n",
    "        'Halal': '✅' if halal else '❌'\n",
    "    })\n",
    "\n",
    "df = pd.DataFrame(results)\n",
    "print(df.head())"
   ]
  },
  {
   "cell_type": "code",
   "execution_count": 27,
   "id": "8346033c",
   "metadata": {},
   "outputs": [
    {
     "name": "stdout",
     "output_type": "stream",
     "text": [
      "      Ticker                             Name                  Sector  \\\n",
      "0    SIAM.BK    SIAM_SIAM STEEL INTERNATIONAL       Consumer Cyclical   \n",
      "1  KAMART.BK                  KAMART_KARMARTS      Consumer Defensive   \n",
      "2     IFS.BK       IFS_IFS CAPITAL (THAILAND)      Financial Services   \n",
      "3    POPF.BK      POPF_PRIME OFFICE LEASEHOLD                           \n",
      "4   PYLON.BK                      PYLON_PYLON             Industrials   \n",
      "5    SYMC.BK      SYMC_SYMPHONY COMMUNICATION  Communication Services   \n",
      "6   WHAIR.BK   WHAIR_WHA INDUSTRIAL LEASEHOLD             Real Estate   \n",
      "7     THG.BK    THG_THONBURI HEALTHCARE GROUP              Healthcare   \n",
      "8    DCON.BK               DCON_DCON PRODUCTS         Basic Materials   \n",
      "9     TAN.BK  TAN_TANACHIRA RETAIL CORPORATIO       Consumer Cyclical   \n",
      "\n",
      "                             Industry Halal  \n",
      "0  Furnishings, Fixtures & Appliances     ✅  \n",
      "1       Household & Personal Products     ✅  \n",
      "2                     Credit Services     ✅  \n",
      "3                                         ✅  \n",
      "4          Engineering & Construction     ✅  \n",
      "5                    Telecom Services     ✅  \n",
      "6                   REIT - Industrial     ✅  \n",
      "7             Medical Care Facilities     ✅  \n",
      "8                  Building Materials     ✅  \n",
      "9                        Luxury Goods     ✅  \n"
     ]
    }
   ],
   "source": [
    "# ✅ แสดงผลแบบตาราง\n",
    "df = pd.DataFrame(results)\n",
    "pd.set_option('display.max_colwidth', None)  # ให้ข้อความแสดงเต็ม\n",
    "print(df.head(10))"
   ]
  }
 ],
 "metadata": {
  "kernelspec": {
   "display_name": "Python 3",
   "language": "python",
   "name": "python3"
  },
  "language_info": {
   "codemirror_mode": {
    "name": "ipython",
    "version": 3
   },
   "file_extension": ".py",
   "mimetype": "text/x-python",
   "name": "python",
   "nbconvert_exporter": "python",
   "pygments_lexer": "ipython3",
   "version": "3.10.0"
  }
 },
 "nbformat": 4,
 "nbformat_minor": 5
}
