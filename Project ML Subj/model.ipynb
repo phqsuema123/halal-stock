{
 "cells": [
  {
   "cell_type": "markdown",
   "id": "0ce32841",
   "metadata": {},
   "source": [
    "MODEL HALAL STOCK"
   ]
  },
  {
   "cell_type": "code",
   "execution_count": 53,
   "id": "0063e507",
   "metadata": {},
   "outputs": [],
   "source": [
    "from cassandra.cluster import Cluster\n",
    "import pandas as pd\n",
    "import yfinance as yf\n",
    "import pandas as pd\n",
    "from sklearn.ensemble import RandomForestClassifier\n",
    "from sklearn.feature_extraction.text import TfidfVectorizer\n",
    "from sklearn.pipeline import Pipeline\n",
    "from sklearn.pipeline import make_pipeline\n",
    "from sklearn.naive_bayes import MultinomialNB\n",
    "from sklearn.model_selection import train_test_split\n",
    "from sklearn.metrics import classification_report\n",
    "\n",
    "import pandas as pd\n",
    "import numpy as np\n",
    "from sklearn.model_selection import train_test_split\n",
    "from sklearn.pipeline import Pipeline, make_pipeline\n",
    "from sklearn.feature_extraction.text import TfidfVectorizer\n",
    "from sklearn.linear_model import LogisticRegression\n",
    "from sklearn.metrics import classification_report, accuracy_score\n",
    "from sklearn.compose import ColumnTransformer\n",
    "from sklearn.base import BaseEstimator, TransformerMixin\n",
    "import matplotlib.pyplot as plt\n",
    "import seaborn as sns\n",
    "from wordcloud import WordCloud"
   ]
  },
  {
   "cell_type": "markdown",
   "id": "94630be5",
   "metadata": {},
   "source": [
    "Connect to Data base for import Data"
   ]
  },
  {
   "cell_type": "code",
   "execution_count": 54,
   "id": "aa3e13d9",
   "metadata": {},
   "outputs": [],
   "source": [
    "cluster = Cluster(['127.0.0.1'])\n",
    "session = cluster.connect('info_stock')"
   ]
  },
  {
   "cell_type": "code",
   "execution_count": 55,
   "id": "87cbeeff",
   "metadata": {},
   "outputs": [],
   "source": [
    "rows = session.execute('SELECT * FROM financial_data')\n",
    "df = pd.DataFrame(rows.all())"
   ]
  },
  {
   "cell_type": "code",
   "execution_count": 56,
   "id": "540e5f85",
   "metadata": {},
   "outputs": [
    {
     "data": {
      "text/html": [
       "<div>\n",
       "<style scoped>\n",
       "    .dataframe tbody tr th:only-of-type {\n",
       "        vertical-align: middle;\n",
       "    }\n",
       "\n",
       "    .dataframe tbody tr th {\n",
       "        vertical-align: top;\n",
       "    }\n",
       "\n",
       "    .dataframe thead th {\n",
       "        text-align: right;\n",
       "    }\n",
       "</style>\n",
       "<table border=\"1\" class=\"dataframe\">\n",
       "  <thead>\n",
       "    <tr style=\"text-align: right;\">\n",
       "      <th></th>\n",
       "      <th>ticker</th>\n",
       "      <th>industry</th>\n",
       "      <th>interest_income</th>\n",
       "      <th>long_business_summary</th>\n",
       "      <th>name</th>\n",
       "      <th>sector</th>\n",
       "      <th>total_assets</th>\n",
       "      <th>total_debt</th>\n",
       "      <th>total_revenue</th>\n",
       "    </tr>\n",
       "  </thead>\n",
       "  <tbody>\n",
       "    <tr>\n",
       "      <th>0</th>\n",
       "      <td>SIAM.BK</td>\n",
       "      <td>Furnishings, Fixtures &amp; Appliances</td>\n",
       "      <td>-0.02879</td>\n",
       "      <td>Siam Steel International Public Company Limite...</td>\n",
       "      <td>SIAM_SIAM STEEL INTERNATIONAL</td>\n",
       "      <td>Consumer Cyclical</td>\n",
       "      <td>1.0</td>\n",
       "      <td>2.040780e+08</td>\n",
       "      <td>1.773048e+09</td>\n",
       "    </tr>\n",
       "    <tr>\n",
       "      <th>1</th>\n",
       "      <td>KAMART.BK</td>\n",
       "      <td>Household &amp; Personal Products</td>\n",
       "      <td>0.27538</td>\n",
       "      <td>Karmarts Public Company Limited, together with...</td>\n",
       "      <td>KAMART_KARMARTS</td>\n",
       "      <td>Consumer Defensive</td>\n",
       "      <td>1.0</td>\n",
       "      <td>6.533160e+08</td>\n",
       "      <td>3.322751e+09</td>\n",
       "    </tr>\n",
       "    <tr>\n",
       "      <th>2</th>\n",
       "      <td>IFS.BK</td>\n",
       "      <td>Credit Services</td>\n",
       "      <td>0.40719</td>\n",
       "      <td>IFS Capital (Thailand) Public Company Limited ...</td>\n",
       "      <td>IFS_IFS CAPITAL (THAILAND)</td>\n",
       "      <td>Financial Services</td>\n",
       "      <td>1.0</td>\n",
       "      <td>2.237478e+09</td>\n",
       "      <td>4.514385e+08</td>\n",
       "    </tr>\n",
       "  </tbody>\n",
       "</table>\n",
       "</div>"
      ],
      "text/plain": [
       "      ticker                            industry  interest_income  \\\n",
       "0    SIAM.BK  Furnishings, Fixtures & Appliances         -0.02879   \n",
       "1  KAMART.BK       Household & Personal Products          0.27538   \n",
       "2     IFS.BK                     Credit Services          0.40719   \n",
       "\n",
       "                               long_business_summary  \\\n",
       "0  Siam Steel International Public Company Limite...   \n",
       "1  Karmarts Public Company Limited, together with...   \n",
       "2  IFS Capital (Thailand) Public Company Limited ...   \n",
       "\n",
       "                            name              sector  total_assets  \\\n",
       "0  SIAM_SIAM STEEL INTERNATIONAL   Consumer Cyclical           1.0   \n",
       "1                KAMART_KARMARTS  Consumer Defensive           1.0   \n",
       "2     IFS_IFS CAPITAL (THAILAND)  Financial Services           1.0   \n",
       "\n",
       "     total_debt  total_revenue  \n",
       "0  2.040780e+08   1.773048e+09  \n",
       "1  6.533160e+08   3.322751e+09  \n",
       "2  2.237478e+09   4.514385e+08  "
      ]
     },
     "execution_count": 56,
     "metadata": {},
     "output_type": "execute_result"
    }
   ],
   "source": [
    "df.head(3)"
   ]
  },
  {
   "cell_type": "code",
   "execution_count": 57,
   "id": "9113f047",
   "metadata": {},
   "outputs": [
    {
     "data": {
      "text/plain": [
       "(921, 9)"
      ]
     },
     "execution_count": 57,
     "metadata": {},
     "output_type": "execute_result"
    }
   ],
   "source": [
    "df.shape"
   ]
  },
  {
   "cell_type": "code",
   "execution_count": 58,
   "id": "68aa5dab",
   "metadata": {},
   "outputs": [
    {
     "data": {
      "text/plain": [
       "Index(['ticker', 'industry', 'interest_income', 'long_business_summary',\n",
       "       'name', 'sector', 'total_assets', 'total_debt', 'total_revenue'],\n",
       "      dtype='object')"
      ]
     },
     "execution_count": 58,
     "metadata": {},
     "output_type": "execute_result"
    }
   ],
   "source": [
    "df.columns"
   ]
  },
  {
   "cell_type": "code",
   "execution_count": 59,
   "id": "eb78b28f",
   "metadata": {},
   "outputs": [],
   "source": [
    "df = df.drop(columns=['interest_income','total_assets', 'total_debt', 'total_revenue'])"
   ]
  },
  {
   "cell_type": "markdown",
   "id": "bf52ad57",
   "metadata": {},
   "source": [
    "Vocab about haram"
   ]
  },
  {
   "cell_type": "code",
   "execution_count": 60,
   "id": "f2a44904",
   "metadata": {},
   "outputs": [],
   "source": [
    "# ✅ Vocab ที่คุณให้ไว้\n",
    "vocab = {\n",
    "    \"Interest\": {\n",
    "        \"Finance\": [\n",
    "            \"interest rate\", \"compound interest\", \"loan\", \"mortgage\", \"investment\"\n",
    "        ],\n",
    "        \"Emotion\": [\n",
    "            \"curiosity\", \"fascination\", \"passion\", \"hobby\", \"engagement\"\n",
    "        ]\n",
    "    },\n",
    "    \"Gambling\": [\n",
    "        \"bet\", \"wager\", \"casino\", \"odds\", \"jackpot\", \"addiction\",\n",
    "        \"high roller\", \"roulette\", \"poker\", \"blackjack\", \"slot machine\"\n",
    "    ],\n",
    "    \"Pigs\": [\n",
    "        \"piglet\", \"sow\", \"boar\", \"snout\", \"trough\", \"oink\", \"sty\", \"swine\"\n",
    "    ],\n",
    "    \"Music\": [\n",
    "        \"melody\", \"harmony\", \"rhythm\", \"genre\", \"instrument\", \"lyrics\",\n",
    "        \"composer\", \"band\", \"orchestra\", \"choir\"\n",
    "    ],\n",
    "    \"Prostitution\": [\n",
    "        \"sex work\", \"sex worker\", \"brothel\", \"escort\", \"solicit\", \"pimp\",\n",
    "        \"client\", \"john\", \"red-light district\"\n",
    "    ]\n",
    "}"
   ]
  },
  {
   "cell_type": "code",
   "execution_count": 61,
   "id": "b5fe7768",
   "metadata": {},
   "outputs": [],
   "source": [
    "# แปลงเป็น flat list\n",
    "haram_keywords = []\n",
    "for key, val in vocab.items():\n",
    "    if isinstance(val, dict):\n",
    "        for sub in val.values():\n",
    "            haram_keywords.extend(sub)\n",
    "    else:\n",
    "        haram_keywords.extend(val)\n",
    "\n",
    "# ฟังก์ชันเช็ค\n",
    "def classify_halal(text):\n",
    "    text = text.lower()\n",
    "    return \"Haram\" if any(word in text for word in haram_keywords) else \"Halal\""
   ]
  },
  {
   "cell_type": "code",
   "execution_count": 62,
   "id": "352388cb",
   "metadata": {},
   "outputs": [],
   "source": [
    "df[\"combined_text\"] = df[[\"name\", \"sector\", \"industry\", \"long_business_summary\"]].fillna('').agg(' '.join, axis=1)\n",
    "df[\"halal_status\"] = df[\"combined_text\"].apply(classify_halal)\n"
   ]
  },
  {
   "cell_type": "code",
   "execution_count": 63,
   "id": "0ee2efb1",
   "metadata": {},
   "outputs": [],
   "source": [
    "class NumericFeatureExtractor(BaseEstimator, TransformerMixin):\n",
    "    def fit(self, X, y=None): return self\n",
    "    def transform(self, X):\n",
    "        return np.array(X).reshape(-1, 1)"
   ]
  },
  {
   "cell_type": "code",
   "execution_count": 64,
   "id": "6c665efd",
   "metadata": {},
   "outputs": [],
   "source": [
    "from sklearn.model_selection import train_test_split\n",
    "\n",
    "# ตัวแปร input และ output\n",
    "X = df[\"combined_text\"]\n",
    "y = df[\"halal_status\"]\n",
    "\n",
    "# แบ่งข้อมูลเทรน/เทสต์\n",
    "X_train, X_test, y_train, y_test = train_test_split(X, y, test_size=0.2, random_state=42)\n"
   ]
  },
  {
   "cell_type": "code",
   "execution_count": 65,
   "id": "f7a67c76",
   "metadata": {},
   "outputs": [
    {
     "name": "stdout",
     "output_type": "stream",
     "text": [
      "Accuracy on test set: 0.8378378378378378\n"
     ]
    }
   ],
   "source": [
    "from sklearn.pipeline import make_pipeline\n",
    "from sklearn.feature_extraction.text import CountVectorizer\n",
    "from sklearn.ensemble import RandomForestClassifier\n",
    "\n",
    "# สร้าง pipeline: แปลงข้อความ → เทรนโมเดล\n",
    "model = make_pipeline(CountVectorizer(), RandomForestClassifier(random_state=42))\n",
    "model.fit(X_train, y_train)\n",
    "\n",
    "# ตรวจสอบความแม่นยำเบื้องต้น\n",
    "print(\"Accuracy on test set:\", model.score(X_test, y_test))\n"
   ]
  },
  {
   "cell_type": "code",
   "execution_count": 66,
   "id": "3083643d",
   "metadata": {},
   "outputs": [],
   "source": [
    "def predict_halal_status(stock_name):\n",
    "    stock_name = stock_name.strip().lower()\n",
    "    # หาว่ามีหุ้นนี้ใน df หรือไม่\n",
    "    match = df[df[\"name\"].str.lower().str.contains(stock_name)]\n",
    "    if not match.empty:\n",
    "        text = match.iloc[0][\"combined_text\"]\n",
    "        prediction = model.predict([text])[0]\n",
    "        return f\"หุ้น '{match.iloc[0]['name']}' จัดว่าเป็น '{prediction}'\"\n",
    "    else:\n",
    "        # ถ้าไม่เจอข้อมูลหุ้นในฐานข้อมูล\n",
    "        prediction = model.predict([stock_name])[0]\n",
    "        return f\"(ไม่พบในฐานข้อมูล) คำว่า '{stock_name}' ถูกจัดว่าเป็น '{prediction}'\"\n"
   ]
  },
  {
   "cell_type": "code",
   "execution_count": 73,
   "id": "2e664b30",
   "metadata": {},
   "outputs": [
    {
     "data": {
      "text/html": [
       "<div>\n",
       "<style scoped>\n",
       "    .dataframe tbody tr th:only-of-type {\n",
       "        vertical-align: middle;\n",
       "    }\n",
       "\n",
       "    .dataframe tbody tr th {\n",
       "        vertical-align: top;\n",
       "    }\n",
       "\n",
       "    .dataframe thead th {\n",
       "        text-align: right;\n",
       "    }\n",
       "</style>\n",
       "<table border=\"1\" class=\"dataframe\">\n",
       "  <thead>\n",
       "    <tr style=\"text-align: right;\">\n",
       "      <th></th>\n",
       "      <th>ticker</th>\n",
       "      <th>industry</th>\n",
       "      <th>long_business_summary</th>\n",
       "      <th>name</th>\n",
       "      <th>sector</th>\n",
       "      <th>combined_text</th>\n",
       "      <th>halal_status</th>\n",
       "    </tr>\n",
       "  </thead>\n",
       "  <tbody>\n",
       "    <tr>\n",
       "      <th>0</th>\n",
       "      <td>SIAM.BK</td>\n",
       "      <td>Furnishings, Fixtures &amp; Appliances</td>\n",
       "      <td>Siam Steel International Public Company Limite...</td>\n",
       "      <td>SIAM_SIAM STEEL INTERNATIONAL</td>\n",
       "      <td>Consumer Cyclical</td>\n",
       "      <td>SIAM_SIAM STEEL INTERNATIONAL Consumer Cyclica...</td>\n",
       "      <td>Halal</td>\n",
       "    </tr>\n",
       "    <tr>\n",
       "      <th>1</th>\n",
       "      <td>KAMART.BK</td>\n",
       "      <td>Household &amp; Personal Products</td>\n",
       "      <td>Karmarts Public Company Limited, together with...</td>\n",
       "      <td>KAMART_KARMARTS</td>\n",
       "      <td>Consumer Defensive</td>\n",
       "      <td>KAMART_KARMARTS Consumer Defensive Household &amp;...</td>\n",
       "      <td>Haram</td>\n",
       "    </tr>\n",
       "    <tr>\n",
       "      <th>2</th>\n",
       "      <td>IFS.BK</td>\n",
       "      <td>Credit Services</td>\n",
       "      <td>IFS Capital (Thailand) Public Company Limited ...</td>\n",
       "      <td>IFS_IFS CAPITAL (THAILAND)</td>\n",
       "      <td>Financial Services</td>\n",
       "      <td>IFS_IFS CAPITAL (THAILAND) Financial Services ...</td>\n",
       "      <td>Halal</td>\n",
       "    </tr>\n",
       "    <tr>\n",
       "      <th>3</th>\n",
       "      <td>POPF.BK</td>\n",
       "      <td></td>\n",
       "      <td>Prime Office Leasehold Property Fund specializ...</td>\n",
       "      <td>POPF_PRIME OFFICE LEASEHOLD</td>\n",
       "      <td></td>\n",
       "      <td>POPF_PRIME OFFICE LEASEHOLD   Prime Office Lea...</td>\n",
       "      <td>Haram</td>\n",
       "    </tr>\n",
       "    <tr>\n",
       "      <th>4</th>\n",
       "      <td>PYLON.BK</td>\n",
       "      <td>Engineering &amp; Construction</td>\n",
       "      <td>Pylon Public Company Limited, together with it...</td>\n",
       "      <td>PYLON_PYLON</td>\n",
       "      <td>Industrials</td>\n",
       "      <td>PYLON_PYLON Industrials Engineering &amp; Construc...</td>\n",
       "      <td>Halal</td>\n",
       "    </tr>\n",
       "    <tr>\n",
       "      <th>5</th>\n",
       "      <td>SYMC.BK</td>\n",
       "      <td>Telecom Services</td>\n",
       "      <td>Symphony Communication Public Company Limited ...</td>\n",
       "      <td>SYMC_SYMPHONY COMMUNICATION</td>\n",
       "      <td>Communication Services</td>\n",
       "      <td>SYMC_SYMPHONY COMMUNICATION Communication Serv...</td>\n",
       "      <td>Haram</td>\n",
       "    </tr>\n",
       "    <tr>\n",
       "      <th>6</th>\n",
       "      <td>WHAIR.BK</td>\n",
       "      <td>REIT - Industrial</td>\n",
       "      <td></td>\n",
       "      <td>WHAIR_WHA INDUSTRIAL LEASEHOLD</td>\n",
       "      <td>Real Estate</td>\n",
       "      <td>WHAIR_WHA INDUSTRIAL LEASEHOLD Real Estate REI...</td>\n",
       "      <td>Halal</td>\n",
       "    </tr>\n",
       "    <tr>\n",
       "      <th>7</th>\n",
       "      <td>THG.BK</td>\n",
       "      <td>Medical Care Facilities</td>\n",
       "      <td>Thonburi Healthcare Group Public Company Limit...</td>\n",
       "      <td>THG_THONBURI HEALTHCARE GROUP</td>\n",
       "      <td>Healthcare</td>\n",
       "      <td>THG_THONBURI HEALTHCARE GROUP Healthcare Medic...</td>\n",
       "      <td>Halal</td>\n",
       "    </tr>\n",
       "    <tr>\n",
       "      <th>8</th>\n",
       "      <td>DCON.BK</td>\n",
       "      <td>Building Materials</td>\n",
       "      <td>Dcon Products Public Company Limited, together...</td>\n",
       "      <td>DCON_DCON PRODUCTS</td>\n",
       "      <td>Basic Materials</td>\n",
       "      <td>DCON_DCON PRODUCTS Basic Materials Building Ma...</td>\n",
       "      <td>Halal</td>\n",
       "    </tr>\n",
       "    <tr>\n",
       "      <th>9</th>\n",
       "      <td>TAN.BK</td>\n",
       "      <td>Luxury Goods</td>\n",
       "      <td>Tanachira Retail Corporation Public Company Li...</td>\n",
       "      <td>TAN_TANACHIRA RETAIL CORPORATIO</td>\n",
       "      <td>Consumer Cyclical</td>\n",
       "      <td>TAN_TANACHIRA RETAIL CORPORATIO Consumer Cycli...</td>\n",
       "      <td>Haram</td>\n",
       "    </tr>\n",
       "  </tbody>\n",
       "</table>\n",
       "</div>"
      ],
      "text/plain": [
       "      ticker                            industry  \\\n",
       "0    SIAM.BK  Furnishings, Fixtures & Appliances   \n",
       "1  KAMART.BK       Household & Personal Products   \n",
       "2     IFS.BK                     Credit Services   \n",
       "3    POPF.BK                                       \n",
       "4   PYLON.BK          Engineering & Construction   \n",
       "5    SYMC.BK                    Telecom Services   \n",
       "6   WHAIR.BK                   REIT - Industrial   \n",
       "7     THG.BK             Medical Care Facilities   \n",
       "8    DCON.BK                  Building Materials   \n",
       "9     TAN.BK                        Luxury Goods   \n",
       "\n",
       "                               long_business_summary  \\\n",
       "0  Siam Steel International Public Company Limite...   \n",
       "1  Karmarts Public Company Limited, together with...   \n",
       "2  IFS Capital (Thailand) Public Company Limited ...   \n",
       "3  Prime Office Leasehold Property Fund specializ...   \n",
       "4  Pylon Public Company Limited, together with it...   \n",
       "5  Symphony Communication Public Company Limited ...   \n",
       "6                                                      \n",
       "7  Thonburi Healthcare Group Public Company Limit...   \n",
       "8  Dcon Products Public Company Limited, together...   \n",
       "9  Tanachira Retail Corporation Public Company Li...   \n",
       "\n",
       "                              name                  sector  \\\n",
       "0    SIAM_SIAM STEEL INTERNATIONAL       Consumer Cyclical   \n",
       "1                  KAMART_KARMARTS      Consumer Defensive   \n",
       "2       IFS_IFS CAPITAL (THAILAND)      Financial Services   \n",
       "3      POPF_PRIME OFFICE LEASEHOLD                           \n",
       "4                      PYLON_PYLON             Industrials   \n",
       "5      SYMC_SYMPHONY COMMUNICATION  Communication Services   \n",
       "6   WHAIR_WHA INDUSTRIAL LEASEHOLD             Real Estate   \n",
       "7    THG_THONBURI HEALTHCARE GROUP              Healthcare   \n",
       "8               DCON_DCON PRODUCTS         Basic Materials   \n",
       "9  TAN_TANACHIRA RETAIL CORPORATIO       Consumer Cyclical   \n",
       "\n",
       "                                       combined_text halal_status  \n",
       "0  SIAM_SIAM STEEL INTERNATIONAL Consumer Cyclica...        Halal  \n",
       "1  KAMART_KARMARTS Consumer Defensive Household &...        Haram  \n",
       "2  IFS_IFS CAPITAL (THAILAND) Financial Services ...        Halal  \n",
       "3  POPF_PRIME OFFICE LEASEHOLD   Prime Office Lea...        Haram  \n",
       "4  PYLON_PYLON Industrials Engineering & Construc...        Halal  \n",
       "5  SYMC_SYMPHONY COMMUNICATION Communication Serv...        Haram  \n",
       "6  WHAIR_WHA INDUSTRIAL LEASEHOLD Real Estate REI...        Halal  \n",
       "7  THG_THONBURI HEALTHCARE GROUP Healthcare Medic...        Halal  \n",
       "8  DCON_DCON PRODUCTS Basic Materials Building Ma...        Halal  \n",
       "9  TAN_TANACHIRA RETAIL CORPORATIO Consumer Cycli...        Haram  "
      ]
     },
     "execution_count": 73,
     "metadata": {},
     "output_type": "execute_result"
    }
   ],
   "source": [
    "df.head(10)"
   ]
  },
  {
   "cell_type": "code",
   "execution_count": 85,
   "id": "910defef",
   "metadata": {},
   "outputs": [
    {
     "name": "stdout",
     "output_type": "stream",
     "text": [
      "หุ้น 'TAN_TANACHIRA RETAIL CORPORATIO' จัดว่าเป็น 'Haram'\n"
     ]
    }
   ],
   "source": [
    "print(predict_halal_status(\"TAN.\"))\n"
   ]
  },
  {
   "cell_type": "code",
   "execution_count": 79,
   "id": "83c49590",
   "metadata": {},
   "outputs": [
    {
     "name": "stderr",
     "output_type": "stream",
     "text": [
      "C:\\Users\\Admin\\AppData\\Local\\Temp\\ipykernel_2768\\2275665500.py:2: FutureWarning: \n",
      "\n",
      "Passing `palette` without assigning `hue` is deprecated and will be removed in v0.14.0. Assign the `x` variable to `hue` and set `legend=False` for the same effect.\n",
      "\n",
      "  sns.countplot(data=df, x='halal_status', palette='Set2')\n"
     ]
    },
    {
     "data": {
      "image/png": "[encoded data removed]",
      "text/plain": [
       "<Figure size 600x400 with 1 Axes>"
      ]
     },
     "metadata": {},
     "output_type": "display_data"
    }
   ],
   "source": [
    "plt.figure(figsize=(6,4))\n",
    "sns.countplot(data=df, x='halal_status', palette='Set2')\n",
    "plt.title('Stock count Halal vs Haram')\n",
    "plt.xlabel('status halal')\n",
    "plt.ylabel('count')\n",
    "plt.show()"
   ]
  }
 ],
 "metadata": {
  "kernelspec": {
   "display_name": "Python 3",
   "language": "python",
   "name": "python3"
  },
  "language_info": {
   "codemirror_mode": {
    "name": "ipython",
    "version": 3
   },
   "file_extension": ".py",
   "mimetype": "text/x-python",
   "name": "python",
   "nbconvert_exporter": "python",
   "pygments_lexer": "ipython3",
   "version": "3.10.0"
  }
 },
 "nbformat": 4,
 "nbformat_minor": 5
}
